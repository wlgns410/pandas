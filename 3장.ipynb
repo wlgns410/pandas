{
  "nbformat": 4,
  "nbformat_minor": 0,
  "metadata": {
    "colab": {
      "name": "3장.ipynb",
      "provenance": [],
      "collapsed_sections": [],
      "mount_file_id": "1NIBG8QBtJ1cOf3heDOj1OARJHEnfmDNd",
      "authorship_tag": "ABX9TyPwSoAvUXR1Ozj87rop3BAQ",
      "include_colab_link": true
    },
    "kernelspec": {
      "name": "python3",
      "display_name": "Python 3"
    },
    "language_info": {
      "name": "python"
    }
  },
  "cells": [
    {
      "cell_type": "markdown",
      "metadata": {
        "id": "view-in-github",
        "colab_type": "text"
      },
      "source": [
        "<a href=\"https://colab.research.google.com/github/wlgns410/pandas/blob/main/3%EC%9E%A5.ipynb\" target=\"_parent\"><img src=\"https://colab.research.google.com/assets/colab-badge.svg\" alt=\"Open In Colab\"/></a>"
      ]
    },
    {
      "cell_type": "code",
      "execution_count": 6,
      "metadata": {
        "id": "1WERkWho30fa"
      },
      "outputs": [],
      "source": [
        "import os\n",
        "import pandas as pd\n",
        "import numpy as np\n",
        "from sklearn.model_selection import train_test_split\n",
        "from sklearn.metrics.pairwise import cosine_similarity"
      ]
    },
    {
      "cell_type": "code",
      "source": [
        "cd drive/MyDrive/drive/MyDrive/RecoSys/Data"
      ],
      "metadata": {
        "colab": {
          "base_uri": "https://localhost:8080/"
        },
        "id": "PMfIw-DM4Cow",
        "outputId": "605876fa-2931-4834-a604-8479398bf5c8"
      },
      "execution_count": 7,
      "outputs": [
        {
          "output_type": "stream",
          "name": "stdout",
          "text": [
            "[Errno 2] No such file or directory: 'drive/MyDrive/drive/MyDrive/RecoSys/Data'\n",
            "/content/drive/MyDrive/drive/MyDrive/RecoSys/Data\n"
          ]
        }
      ]
    },
    {
      "cell_type": "code",
      "source": [
        "base_src = '/content/drive/MyDrive/drive/MyDrive/RecoSys/Data'\n",
        "\n",
        "u_user_src = os.path.join(base_src, 'u.user')\n",
        "u_cols = ['user_id', 'age', 'sex', 'occupation', 'zip_code']\n",
        "users = pd.read_csv(u_user_src, sep='|', names=u_cols, encoding='latin-1')\n",
        "\n",
        "u_item_src = os.path.join(base_src, 'u.item')\n",
        "i_cols = ['movie_id', 'title', 'release date', 'video release date',\n",
        "          'IMDB URL', 'unknown', 'Action', 'Adventure', 'Animation',\n",
        "          'Children\\'s', 'Comedy', 'Crime', 'Documentary', 'Drama',\n",
        "          'Fantasy', 'Film-Noir', 'Horror', 'Musical', 'Mystery',\n",
        "          'Romance', 'Sci-Fi', 'Thriller', 'War', 'Western']\n",
        "movies = pd.read_csv(u_item_src, sep='|', names=i_cols, encoding='latin-1')\n",
        "\n",
        "u_data_src = os.path.join(base_src, 'u.data')\n",
        "r_cols = ['user_id', 'movie_id', 'rating', 'timestamp']\n",
        "ratings = pd.read_csv(u_data_src, sep='\\t', names=r_cols, encoding='latin-1')\n",
        "\n",
        "# ratings DataFrame에서 timestamp 제거\n",
        "ratings = ratings.drop('timestamp', axis=1)\n",
        "movies = movies[['movie_id', 'title']]\n",
        "\n",
        "x = ratings.copy()\n",
        "y = ratings['user_id']\n",
        "\n",
        "### test_size: 25%, train:75%로 구성하겠다는 뜻  stratify는 데이터 뭉침을 방지 위함\n",
        "x_train, x_test, y_train, y_test = train_test_split(x,y, test_size=0.25, stratify=y)\n",
        "\n",
        "# 정확도(RMSE) 계산 함수\n",
        "def RMSE(y_true, y_pred):\n",
        "  return np.sqrt(np.mean((np.array(y_true) - np.array(y_pred)) **2))\n",
        "\n",
        "# 모델별 RMSE 계산하는 함수\n",
        "def score(model):\n",
        "  id_pairs = zip(x_test['user_id'], x_test['movie_id'])\n",
        "  y_pred = np.array([model(user,movie) for (user, movie) in id_pairs])\n",
        "  y_true = np.array(x_test['rating'])\n",
        "  return RMSE(y_true, y_pred)\n",
        "\n",
        "# best_Seller 함수를 이용한 정확도 계산\n",
        "train_mean = x_train.groupby(['movie_id'])['rating'].mean()\n",
        "\n",
        "def best_seller(user_id, movie_id):\n",
        "  try:\n",
        "    rating = train_mean[movie_id]\n",
        "\n",
        "  except:\n",
        "    rating = 3.0\n",
        "  return rating\n",
        "\n",
        "score(best_seller)\n",
        "\n",
        "merged_ratings = pd.merge(x_train,users)\n",
        "\n",
        "users = users.set_index('user_id')\n",
        "\n",
        "g_mean = merged_ratings[['movie_id', 'sex', 'rating']].groupby(['movie_id', 'sex'])['rating'].mean()\n",
        "\n",
        "rating_matrix = x_train.pivot(index='user_id', columns='movie_id', values='rating')\n",
        "\n",
        "### 코사인 유사도 계산###\n",
        "matrix_dummy = rating_matrix.copy().fillna(0)\n",
        "user_similarity = cosine_similarity(matrix_dummy, matrix_dummy)\n",
        "user_similarity = pd.DataFrame(user_similarity,\n",
        "                               index=rating_matrix.index,\n",
        "                               columns=rating_matrix.index)\n"
      ],
      "metadata": {
        "id": "zbqd7mEH4-0w"
      },
      "execution_count": 8,
      "outputs": []
    },
    {
      "cell_type": "code",
      "source": [
        "## 주어진 영화의 가중평균을 계산하는 함수\n",
        "def CF_simple(user_id, movie_id):\n",
        "  if movie_id in rating_matrix.columns:\n",
        "    sim_scores = user_similarity[user_id].copy()\n",
        "    movie_ratings = rating_matrix[movie_id].copy()\n",
        "    none_rating_idx = movie_ratings[movie_ratings.isnull()].index\n",
        "    movie_ratings = movie_ratings.dropna()\n",
        "    sim_scores = sim_scores.drop(none_rating_idx)\n",
        "    mean_rating = np.dot(sim_scores,movie_ratings) / sim_scores.sum()\n",
        "\n",
        "  else:\n",
        "    mean_rating = 3.0\n",
        "  return mean_rating\n",
        "\n",
        "\n"
      ],
      "metadata": {
        "id": "PAHGv1bA5Dam"
      },
      "execution_count": 9,
      "outputs": []
    },
    {
      "cell_type": "code",
      "source": [
        "user_similarity"
      ],
      "metadata": {
        "colab": {
          "base_uri": "https://localhost:8080/"
        },
        "id": "YKc0OcC05pER",
        "outputId": "3acf5d1f-0739-41d7-b055-89d93f053ec0"
      },
      "execution_count": 22,
      "outputs": [
        {
          "output_type": "execute_result",
          "data": {
            "text/plain": [
              "array([[1.        , 0.0947917 , 0.03162495, ..., 0.06377042, 0.12666333,\n",
              "        0.32161978],\n",
              "       [0.0947917 , 1.        , 0.08770493, ..., 0.07827937, 0.11258756,\n",
              "        0.08543742],\n",
              "       [0.03162495, 0.08770493, 1.        , ..., 0.02444529, 0.10442267,\n",
              "        0.        ],\n",
              "       ...,\n",
              "       [0.06377042, 0.07827937, 0.02444529, ..., 1.        , 0.06903738,\n",
              "        0.04876658],\n",
              "       [0.12666333, 0.11258756, 0.10442267, ..., 0.06903738, 1.        ,\n",
              "        0.17530975],\n",
              "       [0.32161978, 0.08543742, 0.        , ..., 0.04876658, 0.17530975,\n",
              "        1.        ]])"
            ]
          },
          "metadata": {},
          "execution_count": 22
        }
      ]
    }
  ]
}