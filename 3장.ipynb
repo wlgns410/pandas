{
  "nbformat": 4,
  "nbformat_minor": 0,
  "metadata": {
    "colab": {
      "name": "3장.ipynb",
      "provenance": [],
      "collapsed_sections": [],
      "mount_file_id": "1NIBG8QBtJ1cOf3heDOj1OARJHEnfmDNd",
      "authorship_tag": "ABX9TyOitex6Mj5IvX/HfPt0D4AG",
      "include_colab_link": true
    },
    "kernelspec": {
      "name": "python3",
      "display_name": "Python 3"
    },
    "language_info": {
      "name": "python"
    }
  },
  "cells": [
    {
      "cell_type": "markdown",
      "metadata": {
        "id": "view-in-github",
        "colab_type": "text"
      },
      "source": [
        "<a href=\"https://colab.research.google.com/github/wlgns410/pandas/blob/main/3%EC%9E%A5.ipynb\" target=\"_parent\"><img src=\"https://colab.research.google.com/assets/colab-badge.svg\" alt=\"Open In Colab\"/></a>"
      ]
    },
    {
      "cell_type": "code",
      "execution_count": 1,
      "metadata": {
        "id": "1WERkWho30fa"
      },
      "outputs": [],
      "source": [
        "import os\n",
        "import pandas as pd\n",
        "import numpy as np\n",
        "from sklearn.model_selection import train_test_split\n",
        "from sklearn.metrics.pairwise import cosine_similarity"
      ]
    },
    {
      "cell_type": "code",
      "source": [
        "cd drive/MyDrive/drive/MyDrive/RecoSys/Data"
      ],
      "metadata": {
        "colab": {
          "base_uri": "https://localhost:8080/"
        },
        "id": "PMfIw-DM4Cow",
        "outputId": "65008788-1bd7-4070-a543-9b1f8573bac9"
      },
      "execution_count": 2,
      "outputs": [
        {
          "output_type": "stream",
          "name": "stdout",
          "text": [
            "/content/drive/MyDrive/drive/MyDrive/RecoSys/Data\n"
          ]
        }
      ]
    },
    {
      "cell_type": "code",
      "source": [
        "base_src = '/content/drive/MyDrive/drive/MyDrive/RecoSys/Data'\n",
        "\n",
        "u_user_src = os.path.join(base_src, 'u.user')\n",
        "u_cols = ['user_id', 'age', 'sex', 'occupation', 'zip_code']\n",
        "users = pd.read_csv(u_user_src, sep='|', names=u_cols, encoding='latin-1')\n",
        "\n",
        "u_item_src = os.path.join(base_src, 'u.item')\n",
        "i_cols = ['movie_id', 'title', 'release date', 'video release date',\n",
        "          'IMDB URL', 'unknown', 'Action', 'Adventure', 'Animation',\n",
        "          'Children\\'s', 'Comedy', 'Crime', 'Documentary', 'Drama',\n",
        "          'Fantasy', 'Film-Noir', 'Horror', 'Musical', 'Mystery',\n",
        "          'Romance', 'Sci-Fi', 'Thriller', 'War', 'Western']\n",
        "movies = pd.read_csv(u_item_src, sep='|', names=i_cols, encoding='latin-1')\n",
        "\n",
        "u_data_src = os.path.join(base_src, 'u.data')\n",
        "r_cols = ['user_id', 'movie_id', 'rating', 'timestamp']\n",
        "ratings = pd.read_csv(u_data_src, sep='\\t', names=r_cols, encoding='latin-1')\n",
        "\n",
        "# ratings DataFrame에서 timestamp 제거\n",
        "ratings = ratings.drop('timestamp', axis=1)\n",
        "movies = movies[['movie_id', 'title']]\n",
        "\n",
        "x = ratings.copy()\n",
        "y = ratings['user_id']\n",
        "\n",
        "### test_size: 25%, train:75%로 구성하겠다는 뜻  stratify는 데이터 뭉침을 방지 위함\n",
        "x_train, x_test, y_train, y_test = train_test_split(x,y, test_size=0.25, stratify=y)\n",
        "\n",
        "# 정확도(RMSE) 계산 함수\n",
        "def RMSE(y_true, y_pred):\n",
        "  return np.sqrt(np.mean((np.array(y_true) - np.array(y_pred)) **2))\n",
        "\n",
        "# 모델별 RMSE 계산하는 함수\n",
        "def score(model, neighbor_size=0):\n",
        "  id_pairs = zip(x_test['user_id'], x_test['movie_id'])\n",
        "  y_pred = np.array([model(user,movie,neighbor_size) for (user, movie) in id_pairs])\n",
        "  y_true = np.array(x_test['rating'])\n",
        "  return RMSE(y_true, y_pred)\n",
        "\n",
        "x = ratings.copy()\n",
        "y = ratings['user_id']\n",
        "\n",
        "x_train, x_test, y_train, y_test = train_test_split(x,y,test_size=0.25,stratify=y)\n",
        "rating_matrix = x_train.pivot(index='user_id', columns='movie_id', values='rating')\n",
        "\n",
        "### 코사인 유사도 계산###\n",
        "matrix_dummy = rating_matrix.copy().fillna(0)\n",
        "user_similarity = cosine_similarity(matrix_dummy, matrix_dummy)\n",
        "user_similarity = pd.DataFrame(user_similarity,\n",
        "                               index=rating_matrix.index,\n",
        "                               columns=rating_matrix.index)\n"
      ],
      "metadata": {
        "id": "zbqd7mEH4-0w"
      },
      "execution_count": 26,
      "outputs": []
    },
    {
      "cell_type": "code",
      "source": [
        "## CF 정확도 개선 방법(1)\n",
        "rating_binary_1 = np.array(rating_matrix>0).astype(float)\n",
        "rating_binary_2 = rating_binary_1.T\n",
        "\n",
        "counts = np.dot(rating_binary_1, rating_binary_2)\n",
        "counts = pd.DataFrame(counts,\n",
        "                      index=rating_matrix.index,\n",
        "                      columns=rating_matrix.index).fillna(0)\n",
        "\n",
        "def CF_knn_bias_sig(user_id,movie_id,neighbor_size=0):\n",
        "  if movie_id in rating_bias:\n",
        "    sim_scores = user_similarity[user_id].copy()\n",
        "    movie_ratings = rating_bias[movie_id].copy()\n",
        "    no_rating = movie_ratings.isnull()\n",
        "\n",
        "    common_counts = counts[user_id]\n",
        "    low_significance = common_counts < SIG_LEVEL\n",
        "    none_rating_idx = movie_ratings[no_rating | low_significance].index\n",
        "\n",
        "    movie_ratings = movie_ratings.drop(none_rating_idx)\n",
        "    sim_scores = sim_scores.drop(none_rating_idx)\n",
        "\n",
        "    if neighbor_size == 0:\n",
        "      prediction = np.dot(sim_scores,movie_ratings) / sim_scores.sum()\n",
        "      prediction = prediction + rating_mean[user_id]\n",
        "\n",
        "    else:\n",
        "      if len(sim_scores) > MIN_RATINGS:\n",
        "        neighbor_size = min(neighbor_size, len(sim_scores))\n",
        "        sim_scores = np.array(sim_scores)\n",
        "        movie_ratings = np.array(movie_ratings)\n",
        "        user_idx = np.argsort(sim_scores)\n",
        "        sim_scores = sim_scores[user_idx][-neighbor_size:]\n",
        "        movie_ratings = movie_ratings[user_idx][-neighbor_size:]\n",
        "        prediction = np.dot(sim_scores,movie_ratings)/sim_scores.sum()\n",
        "        prediction = prediction + rating_mean[user_id]\n",
        "\n",
        "      else:\n",
        "        prediction = rating_mean[user_id]\n",
        "  else:\n",
        "    prediction = rating_mean[user_id]\n",
        "  return prediction\n",
        "\n",
        "SIG_LEVEL = 3\n",
        "MIN_RATINGS = 3\n",
        "score(CF_knn_bias_sig, 30)"
      ],
      "metadata": {
        "colab": {
          "base_uri": "https://localhost:8080/"
        },
        "id": "hFiEJnHJbyjI",
        "outputId": "ba4d5db9-f649-4094-ba5e-8aa6583d4bb0"
      },
      "execution_count": 29,
      "outputs": [
        {
          "output_type": "execute_result",
          "data": {
            "text/plain": [
              "0.8587429015133657"
            ]
          },
          "metadata": {},
          "execution_count": 29
        }
      ]
    },
    {
      "cell_type": "code",
      "source": [
        "### 사용자의 평가 경향 고려(방법2)\n",
        "rating_mean = rating_matrix.mean(axis=1)\n",
        "rating_bias = (rating_matrix.T - rating_mean).T\n",
        "\n",
        "## 사용자 평가 경향을 고려한 함수\n",
        "def CF_knn_bias(user_id, movie_id, neighbor_size=0):\n",
        "  if movie_id in rating_bias.columns:\n",
        "    sim_scores = user_similarity[user_id].copy()\n",
        "    movie_ratings = rating_bias[movie_id].copy()\n",
        "    none_rating_idx = movie_ratings[movie_ratings.isnull()].index\n",
        "    movie_ratings = movie_ratings.drop(none_rating_idx)\n",
        "    sim_scores = sim_scores.drop(none_rating_idx)\n",
        "\n",
        "    if neighbor_size == 0:\n",
        "      prediction = np.dot(sim_scores,movie_ratings) / sim_scores.sum()\n",
        "      prediction = prediction + rating_mean[user_id]\n",
        "\n",
        "    else:\n",
        "      if len(sim_scores) > 1:\n",
        "        neighbor_size = min(neighbor_size, len(sim_scores))\n",
        "        sim_scores = np.array(sim_scores)\n",
        "        movie_ratings = np.array(movie_ratings)\n",
        "        user_idx = np.argsort(sim_scores)\n",
        "        sim_scores = sim_scores[user_idx][-neighbor_size:]\n",
        "        movie_ratings = movie_ratings[user_idx][-neighbor_size:]\n",
        "        prediction = np.dot(sim_scores,movie_ratings)/sim_scores.sum()\n",
        "        prediction = prediction + rating_mean[user_id]\n",
        "\n",
        "      else:\n",
        "        prediction = rating_mean[user_id]\n",
        "  else:\n",
        "    prediction = rating_mean[user_id]\n",
        "  return prediction\n",
        "\n",
        "score(CF_knn_bias, 30)\n"
      ],
      "metadata": {
        "colab": {
          "base_uri": "https://localhost:8080/"
        },
        "id": "A2OZHKLCX_NK",
        "outputId": "8832eff7-e34d-44b0-808b-14e19e626a5d"
      },
      "execution_count": 21,
      "outputs": [
        {
          "output_type": "execute_result",
          "data": {
            "text/plain": [
              "0.9403262666132765"
            ]
          },
          "metadata": {},
          "execution_count": 21
        }
      ]
    },
    {
      "cell_type": "code",
      "source": [
        "## 주어진 영화의 가중평균을 계산하는 함수(방법3)\n",
        "def CF_simple(user_id, movie_id, neighbor_size=0):\n",
        "  if movie_id in rating_matrix.columns:\n",
        "    sim_scores = user_similarity[user_id].copy()\n",
        "    movie_ratings = rating_matrix[movie_id].copy()\n",
        "    none_rating_idx = movie_ratings[movie_ratings.isnull()].index\n",
        "    movie_ratings = movie_ratings.dropna()\n",
        "    sim_scores = sim_scores.drop(none_rating_idx)\n",
        "    mean_rating = np.dot(sim_scores,movie_ratings) / sim_scores.sum()\n",
        "\n",
        "    if neighbor_size == 0:\n",
        "      mean_rating = np.dot(sim_scores, movie_ratings) / sim_scores.sum()\n",
        "    else:\n",
        "      if len(sim_scores) > 1:\n",
        "        neighbor_size = min(neighbor_size, len(sim_scores))\n",
        "        sim_scores = np.array(sim_scores)\n",
        "        movie_ratings = np.array(movie_ratings)\n",
        "        user_idx = np.argsort(sim_scores)\n",
        "        sim_scores = sim_scores[user_idx][-neighbor_size:]\n",
        "        movie_ratings = movie_ratings[user_idx][-neighbor_size:]\n",
        "        mean_rating = np.dot(sim_scores, movie_ratings) / sim_scores.sum()\n",
        "      else:\n",
        "        mean_rating = 3.0\n",
        "  else:\n",
        "    mean_rating = 3.0\n",
        "  return mean_rating\n",
        "\n",
        "\n",
        "## 정확도 계산\n",
        "for neighbor_size in [10,20,30,40,50,60]:\n",
        "  print('Neighbor size = %d : RMSE = %.4f'%(neighbor_size,score(CF_simple,neighbor_size)))\n",
        "\n",
        "\n",
        "\n"
      ],
      "metadata": {
        "id": "PAHGv1bA5Dam",
        "colab": {
          "base_uri": "https://localhost:8080/"
        },
        "outputId": "80b5b376-a982-4fe9-d32d-55ef194e37ff"
      },
      "execution_count": 19,
      "outputs": [
        {
          "output_type": "stream",
          "name": "stdout",
          "text": [
            "Neighbor size = 10 : RMSE = 1.0222\n",
            "Neighbor size = 20 : RMSE = 1.0097\n",
            "Neighbor size = 30 : RMSE = 1.0077\n",
            "Neighbor size = 40 : RMSE = 1.0074\n",
            "Neighbor size = 50 : RMSE = 1.0079\n",
            "Neighbor size = 60 : RMSE = 1.0087\n"
          ]
        }
      ]
    },
    {
      "cell_type": "code",
      "source": [
        "(## 실제 주어진 사용자에 대해 추천을 받는 기능(방법4)\n",
        "rating_matrix = ratings.pivot_table(values='rating',\n",
        "                                    index='user_id',\n",
        "                                    columns='movie_id')\n",
        "matrix_dummy = rating_matrix.copy().fillna(0)\n",
        "user_similarity = cosine_similarity(matrix_dummy, matrix_dummy)\n",
        "user_similarity = pd.DataFrame(user_similarity,\n",
        "                               index=rating_matrix.index,\n",
        "                               columns=rating_matrix.index)\n",
        "\n",
        "def recom_movie(user_id, n_items, neighbor_size=30):\n",
        "  user_movie = rating_matrix.loc[user_id].copy()\n",
        "\n",
        "  for movie in rating_matrix.columns:\n",
        "    if pd.notnull(user_movie.loc[movie]):\n",
        "      user_movie.loc[movie] = 0\n",
        "\n",
        "    else:\n",
        "      user_movie.loc[movie] = CF_simple(user_id, movie,neighbor_size)\n",
        "  movie_sort = user_movie.sort_values(ascending=False)[:n_items]\n",
        "  recom_movies = movies.loc[movie_sort.index]\n",
        "  recommendations = recom_movies['title']\n",
        "  return recommendations\n",
        "\n",
        "recom_movie(user_id=729,n_items=5,neighbor_size=30)"
      ],
      "metadata": {
        "colab": {
          "base_uri": "https://localhost:8080/"
        },
        "id": "YKc0OcC05pER",
        "outputId": "0b5b65c1-6d4d-4772-cc0d-a1992ebc717a"
      },
      "execution_count": 14,
      "outputs": [
        {
          "output_type": "execute_result",
          "data": {
            "text/plain": [
              "movie_id\n",
              "1189                              That Old Feeling (1997)\n",
              "1293                     Ayn Rand: A Sense of Life (1997)\n",
              "1467                                     Cure, The (1995)\n",
              "1500    Prisoner of the Mountains (Kavkazsky Plennik) ...\n",
              "22                                     Taxi Driver (1976)\n",
              "Name: title, dtype: object"
            ]
          },
          "metadata": {},
          "execution_count": 14
        }
      ]
    }
  ]
}