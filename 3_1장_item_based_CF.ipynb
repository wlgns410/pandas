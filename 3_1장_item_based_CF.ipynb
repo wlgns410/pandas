{
  "nbformat": 4,
  "nbformat_minor": 0,
  "metadata": {
    "colab": {
      "name": "3-1장 item-based-CF.ipynb",
      "provenance": [],
      "mount_file_id": "1b_hg50ycxi7b7WfObXXWMP0HglwVFr28",
      "authorship_tag": "ABX9TyOWYooyUqMRBu5heoVhsSLy",
      "include_colab_link": true
    },
    "kernelspec": {
      "name": "python3",
      "display_name": "Python 3"
    },
    "language_info": {
      "name": "python"
    }
  },
  "cells": [
    {
      "cell_type": "markdown",
      "metadata": {
        "id": "view-in-github",
        "colab_type": "text"
      },
      "source": [
        "<a href=\"https://colab.research.google.com/github/wlgns410/pandas/blob/main/3_1%EC%9E%A5_item_based_CF.ipynb\" target=\"_parent\"><img src=\"https://colab.research.google.com/assets/colab-badge.svg\" alt=\"Open In Colab\"/></a>"
      ]
    },
    {
      "cell_type": "code",
      "source": [
        "cd drive/MyDrive/drive/MyDrive/RecoSys/Data"
      ],
      "metadata": {
        "colab": {
          "base_uri": "https://localhost:8080/"
        },
        "id": "t6AaswvVn3NO",
        "outputId": "c23e5085-cab7-4db5-c521-8f5fb2e8fd61"
      },
      "execution_count": 3,
      "outputs": [
        {
          "output_type": "stream",
          "name": "stdout",
          "text": [
            "/content/drive/MyDrive/drive/MyDrive/RecoSys/Data\n"
          ]
        }
      ]
    },
    {
      "cell_type": "code",
      "execution_count": 5,
      "metadata": {
        "colab": {
          "base_uri": "https://localhost:8080/"
        },
        "id": "uqQNABTVmJIi",
        "outputId": "f7bbe518-83a8-4eff-b0a0-c3a7d2a50736"
      },
      "outputs": [
        {
          "output_type": "execute_result",
          "data": {
            "text/plain": [
              "1.0144115032641403"
            ]
          },
          "metadata": {},
          "execution_count": 5
        }
      ],
      "source": [
        "import os\n",
        "import pandas as pd\n",
        "import numpy as np\n",
        "from sklearn.model_selection import train_test_split\n",
        "from sklearn.metrics.pairwise import cosine_similarity\n",
        "\n",
        "\n",
        "\n",
        "base_src = '/content/drive/MyDrive/drive/MyDrive/RecoSys/Data'\n",
        "\n",
        "u_user_src = os.path.join(base_src, 'u.user')\n",
        "u_cols = ['user_id', 'age', 'sex', 'occupation', 'zip_code']\n",
        "users = pd.read_csv(u_user_src, sep='|', names=u_cols, encoding='latin-1')\n",
        "\n",
        "u_item_src = os.path.join(base_src, 'u.item')\n",
        "i_cols = ['movie_id', 'title', 'release date', 'video release date',\n",
        "          'IMDB URL', 'unknown', 'Action', 'Adventure', 'Animation',\n",
        "          'Children\\'s', 'Comedy', 'Crime', 'Documentary', 'Drama',\n",
        "          'Fantasy', 'Film-Noir', 'Horror', 'Musical', 'Mystery',\n",
        "          'Romance', 'Sci-Fi', 'Thriller', 'War', 'Western']\n",
        "movies = pd.read_csv(u_item_src, sep='|', names=i_cols, encoding='latin-1')\n",
        "\n",
        "u_data_src = os.path.join(base_src, 'u.data')\n",
        "r_cols = ['user_id', 'movie_id', 'rating', 'timestamp']\n",
        "ratings = pd.read_csv(u_data_src, sep='\\t', names=r_cols, encoding='latin-1')\n",
        "\n",
        "# ratings DataFrame에서 timestamp 제거\n",
        "ratings = ratings.drop('timestamp', axis=1)\n",
        "movies = movies[['movie_id', 'title']]\n",
        "\n",
        "x = ratings.copy()\n",
        "y = ratings['user_id']\n",
        "\n",
        "### test_size: 25%, train:75%로 구성하겠다는 뜻  stratify는 데이터 뭉침을 방지 위함\n",
        "x_train, x_test, y_train, y_test = train_test_split(x,y, test_size=0.25, stratify=y)\n",
        "\n",
        "# 정확도(RMSE) 계산 함수\n",
        "def RMSE(y_true, y_pred):\n",
        "  return np.sqrt(np.mean((np.array(y_true) - np.array(y_pred)) **2))\n",
        "\n",
        "# 모델별 RMSE 계산하는 함수\n",
        "def score(model):\n",
        "  id_pairs = zip(x_test['user_id'], x_test['movie_id'])\n",
        "  y_pred = np.array([model(user,movie) for (user, movie) in id_pairs])\n",
        "  y_true = np.array(x_test['rating'])\n",
        "  return RMSE(y_true, y_pred)\n",
        "\n",
        "x = ratings.copy()\n",
        "y = ratings['user_id']\n",
        "\n",
        "x_train, x_test, y_train, y_test = train_test_split(x,y,test_size=0.25,stratify=y)\n",
        "rating_matrix = x_train.pivot(index='user_id', columns='movie_id', values='rating')\n",
        "\n",
        "#### 유저말고 아이템 기준으로\n",
        "rating_matrix_t = np.transpose(rating_matrix)\n",
        "matrix_dummy = rating_matrix_t.copy().fillna(0)\n",
        "item_similarity = cosine_similarity(matrix_dummy, matrix_dummy)\n",
        "item_similarity = pd.DataFrame(item_similarity,\n",
        "                               index=rating_matrix_t.index,\n",
        "                               columns=rating_matrix_t.index)\n",
        "\n",
        "def CF_IBCF(user_id, movie_id):\n",
        "  if movie_id in item_similarity.columns:\n",
        "    sim_scores = item_similarity[movie_id]\n",
        "    user_rating = rating_matrix_t[user_id]\n",
        "    none_rating_idx = user_rating[user_rating.isnull()].index\n",
        "    user_rating = user_rating.dropna()\n",
        "    sim_scores = sim_scores.drop(none_rating_idx)\n",
        "    mean_rating = np.dot(sim_scores,user_rating) / sim_scores.sum()\n",
        "  else:\n",
        "    mean_rating = 3.0\n",
        "  return mean_rating\n",
        "\n",
        "score(CF_IBCF)\n"
      ]
    }
  ]
}