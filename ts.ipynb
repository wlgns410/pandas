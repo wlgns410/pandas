{
 "cells": [
  {
   "cell_type": "code",
   "execution_count": null,
   "metadata": {},
   "outputs": [],
   "source": []
  }
 ],
 "metadata": {
  "interpreter": {
   "hash": "6ac04aa345f9ad6473d8b57fd51d03dd05fc6732adf73e729748aabddb489308"
  },
  "kernelspec": {
   "display_name": "Python 3.8.12 64-bit ('titanic': conda)",
   "language": "python",
   "name": "python3"
  },
  "language_info": {
   "name": "python",
   "version": "3.8.12"
  },
  "orig_nbformat": 4
 },
 "nbformat": 4,
 "nbformat_minor": 2
}
